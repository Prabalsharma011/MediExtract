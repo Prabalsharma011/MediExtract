{
 "cells": [
  {
   "cell_type": "code",
   "execution_count": 1,
   "id": "d0b37a34-79b4-4263-8163-6906333aff5c",
   "metadata": {},
   "outputs": [],
   "source": [
    "import re"
   ]
  },
  {
   "cell_type": "code",
   "execution_count": 5,
   "id": "11a4c58f-ffea-494b-aa8a-99c0721ae092",
   "metadata": {},
   "outputs": [
    {
     "name": "stderr",
     "output_type": "stream",
     "text": [
      "<>:3: SyntaxWarning: invalid escape sequence '\\d'\n",
      "<>:3: SyntaxWarning: invalid escape sequence '\\d'\n",
      "C:\\Users\\DELL\\AppData\\Local\\Temp\\ipykernel_9628\\574750241.py:3: SyntaxWarning: invalid escape sequence '\\d'\n",
      "  pattern ='\\d+'\n"
     ]
    },
    {
     "data": {
      "text/plain": [
       "['7321119999', '120']"
      ]
     },
     "execution_count": 5,
     "metadata": {},
     "output_type": "execute_result"
    }
   ],
   "source": [
    "text=\"Patients's phone is 7321119999. Bill amount is 120$\"\n",
    "\n",
    "pattern ='\\d+'\n",
    "\n",
    "match = re.findall(pattern,text)\n",
    "match"
   ]
  },
  {
   "cell_type": "markdown",
   "id": "e36e5cce-4a1f-4fde-b002-afc3f5dea33a",
   "metadata": {},
   "source": [
    "Extract only Phone no .phone no is always 10 digit\n"
   ]
  },
  {
   "cell_type": "code",
   "execution_count": 10,
   "id": "2af1584d-58ae-4215-a7c1-84775b193f89",
   "metadata": {},
   "outputs": [
    {
     "name": "stderr",
     "output_type": "stream",
     "text": [
      "<>:3: SyntaxWarning: invalid escape sequence '\\d'\n",
      "<>:3: SyntaxWarning: invalid escape sequence '\\d'\n",
      "C:\\Users\\DELL\\AppData\\Local\\Temp\\ipykernel_9628\\1969536110.py:3: SyntaxWarning: invalid escape sequence '\\d'\n",
      "  pattern ='\\d{10}'\n"
     ]
    },
    {
     "data": {
      "text/plain": [
       "['7321119999']"
      ]
     },
     "execution_count": 10,
     "metadata": {},
     "output_type": "execute_result"
    }
   ],
   "source": [
    "text=\"Patients's phone is 7321119999. Bill amount is 120$\"\n",
    "\n",
    "pattern ='\\d{10}'\n",
    "\n",
    "match = re.findall(pattern,text)\n",
    "match"
   ]
  },
  {
   "cell_type": "markdown",
   "id": "b54b3d65-7298-4374-8f5e-93fcd44f028b",
   "metadata": {},
   "source": [
    "Extract ph no which is either 10 digit or follow this format(xxx)-xxx-xxxxx\n"
   ]
  },
  {
   "cell_type": "code",
   "execution_count": 11,
   "id": "6b6c443b-9a28-4d23-be61-157003408710",
   "metadata": {},
   "outputs": [
    {
     "name": "stderr",
     "output_type": "stream",
     "text": [
      "<>:3: SyntaxWarning: invalid escape sequence '\\('\n",
      "<>:3: SyntaxWarning: invalid escape sequence '\\('\n",
      "C:\\Users\\DELL\\AppData\\Local\\Temp\\ipykernel_9628\\4137221195.py:3: SyntaxWarning: invalid escape sequence '\\('\n",
      "  pattern=\"\\(\\d{3}\\)-\\d{3}-\\d{4}|\\d{10}\"\n"
     ]
    },
    {
     "data": {
      "text/plain": [
       "['(732)-111-9999', '7326664444']"
      ]
     },
     "execution_count": 11,
     "metadata": {},
     "output_type": "execute_result"
    }
   ],
   "source": [
    "text = \"Patients's phone is (732)-111-9999, spouse no 7326664444. Bill amount is 120$\"\n",
    "\n",
    "pattern=\"\\(\\d{3}\\)-\\d{3}-\\d{4}|\\d{10}\"\n",
    "match = re.findall(pattern,text)\n",
    "match"
   ]
  },
  {
   "cell_type": "markdown",
   "id": "62f19589-fbc9-436a-bea9-0ac2eb03258c",
   "metadata": {},
   "source": [
    "Extract phone no and bill amount separately"
   ]
  },
  {
   "cell_type": "code",
   "execution_count": 13,
   "id": "f89a0631-0263-4880-98ac-b8385def260d",
   "metadata": {},
   "outputs": [
    {
     "name": "stderr",
     "output_type": "stream",
     "text": [
      "<>:2: SyntaxWarning: invalid escape sequence '\\d'\n",
      "<>:2: SyntaxWarning: invalid escape sequence '\\d'\n",
      "C:\\Users\\DELL\\AppData\\Local\\Temp\\ipykernel_9628\\2857745962.py:2: SyntaxWarning: invalid escape sequence '\\d'\n",
      "  pattern='(\\d{10})\\D+(\\d+)\\$'\n"
     ]
    },
    {
     "data": {
      "text/plain": [
       "<re.Match object; span=(46, 77), match='7326664444. Bill amount is 120$'>"
      ]
     },
     "execution_count": 13,
     "metadata": {},
     "output_type": "execute_result"
    }
   ],
   "source": [
    "\"Patients's phone is 7321119999. Bill amount is 120$\"\n",
    "pattern='(\\d{10})\\D+(\\d+)\\$'\n",
    "\n",
    "match= re.search(pattern,text)\n",
    "match"
   ]
  },
  {
   "cell_type": "code",
   "execution_count": 14,
   "id": "59f15fac-ced1-46b9-bd9f-996f67a70885",
   "metadata": {},
   "outputs": [],
   "source": [
    "phone_number,bill_amount=match.groups()"
   ]
  },
  {
   "cell_type": "code",
   "execution_count": 15,
   "id": "9eefa73b-49a3-4742-8106-4a2982199969",
   "metadata": {},
   "outputs": [
    {
     "data": {
      "text/plain": [
       "'7326664444'"
      ]
     },
     "execution_count": 15,
     "metadata": {},
     "output_type": "execute_result"
    }
   ],
   "source": [
    "phone_number"
   ]
  },
  {
   "cell_type": "code",
   "execution_count": 16,
   "id": "7aa09c8a-0cc4-4423-9c35-91b5c050bd64",
   "metadata": {},
   "outputs": [
    {
     "data": {
      "text/plain": [
       "'120'"
      ]
     },
     "execution_count": 16,
     "metadata": {},
     "output_type": "execute_result"
    }
   ],
   "source": [
    "bill_amount"
   ]
  },
  {
   "cell_type": "code",
   "execution_count": null,
   "id": "0f6a39c6-dfb2-4bfa-8c2d-aa515843372d",
   "metadata": {},
   "outputs": [],
   "source": []
  }
 ],
 "metadata": {
  "kernelspec": {
   "display_name": "Python 3 (ipykernel)",
   "language": "python",
   "name": "python3"
  },
  "language_info": {
   "codemirror_mode": {
    "name": "ipython",
    "version": 3
   },
   "file_extension": ".py",
   "mimetype": "text/x-python",
   "name": "python",
   "nbconvert_exporter": "python",
   "pygments_lexer": "ipython3",
   "version": "3.12.2"
  }
 },
 "nbformat": 4,
 "nbformat_minor": 5
}
