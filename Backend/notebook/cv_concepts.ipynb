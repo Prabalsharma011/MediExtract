{
 "cells": [
  {
   "cell_type": "code",
   "execution_count": 9,
   "id": "c3e7d79c-19ff-43ab-adc8-9aff4ef1164a",
   "metadata": {},
   "outputs": [],
   "source": [
    "import cv2\n",
    "from PIL import Image"
   ]
  },
  {
   "cell_type": "code",
   "execution_count": 18,
   "id": "349bd12c-1a31-44eb-962a-0ebc1ba87278",
   "metadata": {},
   "outputs": [
    {
     "data": {
      "text/plain": [
       "array([[207, 205, 206, ..., 184, 183, 180],\n",
       "       [202, 205, 208, ..., 185, 192, 181],\n",
       "       [201, 202, 209, ..., 186, 181, 186],\n",
       "       ...,\n",
       "       [153, 154, 157, ..., 177, 177, 180],\n",
       "       [163, 162, 163, ..., 183, 185, 182],\n",
       "       [152, 154, 155, ..., 179, 177, 181]], dtype=uint8)"
      ]
     },
     "execution_count": 18,
     "metadata": {},
     "output_type": "execute_result"
    }
   ],
   "source": [
    "img = cv2.imread(\"dark_img.PNG\",flags=cv2.IMREAD_GRAYSCALE)\n",
    "img"
   ]
  },
  {
   "cell_type": "code",
   "execution_count": 19,
   "id": "b648aed8-c80e-4795-b882-66c3a1cf40fd",
   "metadata": {},
   "outputs": [],
   "source": [
    "Image.fromarray(img).show()"
   ]
  },
  {
   "cell_type": "code",
   "execution_count": 20,
   "id": "7b705e68-652b-40a6-8435-fbdc0de2e35a",
   "metadata": {},
   "outputs": [],
   "source": [
    "_, new_img = cv2.threshold(img,150,255,cv2.THRESH_BINARY)\n",
    "Image.fromarray(new_img).show()#By simple thresholding not possible so we use adaptive thresholding"
   ]
  },
  {
   "cell_type": "code",
   "execution_count": 22,
   "id": "82d97e02-2f0b-4a03-8cc6-f859345d1701",
   "metadata": {},
   "outputs": [],
   "source": [
    "new_img=cv2.adaptiveThreshold(\n",
    "    img, 255,\n",
    "    cv2.ADAPTIVE_THRESH_GAUSSIAN_C,\n",
    "    cv2.THRESH_BINARY,\n",
    "    61,\n",
    "    11\n",
    ")"
   ]
  },
  {
   "cell_type": "code",
   "execution_count": 23,
   "id": "71d53739-8d68-4063-9754-97b8fd2cbd79",
   "metadata": {},
   "outputs": [],
   "source": [
    "Image.fromarray(new_img).show()"
   ]
  },
  {
   "cell_type": "code",
   "execution_count": null,
   "id": "0bf90d84-a84f-4257-ae0b-0daf3901eaaa",
   "metadata": {},
   "outputs": [],
   "source": []
  }
 ],
 "metadata": {
  "kernelspec": {
   "display_name": "Python 3 (ipykernel)",
   "language": "python",
   "name": "python3"
  },
  "language_info": {
   "codemirror_mode": {
    "name": "ipython",
    "version": 3
   },
   "file_extension": ".py",
   "mimetype": "text/x-python",
   "name": "python",
   "nbconvert_exporter": "python",
   "pygments_lexer": "ipython3",
   "version": "3.12.2"
  }
 },
 "nbformat": 4,
 "nbformat_minor": 5
}
