{
 "cells": [
  {
   "cell_type": "code",
   "execution_count": 1,
   "id": "8cb3945e-1ea6-45aa-be28-63dc59d1a574",
   "metadata": {},
   "outputs": [],
   "source": [
    "from pdf2image import convert_from_path"
   ]
  },
  {
   "cell_type": "code",
   "execution_count": 125,
   "id": "0f2c5d43-76e8-455c-ba94-935f6cf19cb5",
   "metadata": {},
   "outputs": [],
   "source": [
    "pages = convert_from_path(r'docs\\patient_details\\pd_2.pdf',poppler_path=r'C:\\poppler-24.02.0\\Library\\bin') # poppler used to change pdf 2 image"
   ]
  },
  {
   "cell_type": "code",
   "execution_count": 126,
   "id": "4c5030cd-d65d-4c6d-b57d-604bcfc327e4",
   "metadata": {},
   "outputs": [
    {
     "data": {
      "text/plain": [
       "[<PIL.PpmImagePlugin.PpmImageFile image mode=RGB size=1500x2000>,\n",
       " <PIL.PpmImagePlugin.PpmImageFile image mode=RGB size=1992x2000>]"
      ]
     },
     "execution_count": 126,
     "metadata": {},
     "output_type": "execute_result"
    }
   ],
   "source": [
    "pages"
   ]
  },
  {
   "cell_type": "code",
   "execution_count": 127,
   "id": "3f54fb90-1743-4845-b091-25a2c39372bb",
   "metadata": {},
   "outputs": [],
   "source": [
    "pages[0].show()"
   ]
  },
  {
   "cell_type": "code",
   "execution_count": 128,
   "id": "715489be-978e-47e7-a261-171bf248196a",
   "metadata": {},
   "outputs": [],
   "source": [
    "import pytesseract"
   ]
  },
  {
   "cell_type": "code",
   "execution_count": 129,
   "id": "64331f92-3f91-423b-9e7c-20a15af296c7",
   "metadata": {},
   "outputs": [
    {
     "name": "stdout",
     "output_type": "stream",
     "text": [
      "a\n",
      "\n",
      "Patient Medical Record\n",
      "\n",
      "Patient Information\n",
      "Jerry Lucas\n",
      "\n",
      "(279) 920-8204\n",
      "4218 Wheeler Ridge Dr\n",
      "\n",
      "Buffalo, New York, 14201\n",
      "United States\n",
      "\n",
      "In Case of Emergency\n",
      "\n",
      "Birth Date\n",
      "May 2 1998\n",
      "\n",
      "Weight:\n",
      "57\n",
      "\n",
      "Height:\n",
      "170\n",
      "\n",
      "Joe Lucas\n",
      "\n",
      "Home phone\n",
      "\n",
      "General Medical History\n",
      "\n",
      "4218 Wheeler Ridge Dr\n",
      "Buffalo, New York, 14201\n",
      "United States\n",
      "\n",
      "Work phone\n",
      "\n",
      "Chicken Pox (Varicelia):\n",
      "\n",
      "IMMUNE\n",
      "\n",
      "Have you had the Hepatitis B vaccination?\n",
      "\n",
      "Measles:\n",
      "\n",
      "NOT IMMUNE\n",
      "\n",
      "any Medical Problems (asthma, seizures, headaches):\n",
      "\n",
      "\n"
     ]
    }
   ],
   "source": [
    "pytesseract.pytesseract.tesseract_cmd=r'C:\\Program Files\\Tesseract-OCR\\tesseract.exe' #image to text conversion this tessarcat is engine\n",
    "text= pytesseract.image_to_string(pages[0], lang='eng')\n",
    "print(text)"
   ]
  },
  {
   "cell_type": "code",
   "execution_count": 130,
   "id": "c6376ed5-56cc-496c-8e65-034b77b2007a",
   "metadata": {},
   "outputs": [],
   "source": [
    "import numpy as np\n",
    "import cv2\n",
    "\n",
    "def preprocess_image(img):\n",
    "    gray = cv2.cvtColor(np.array(img), cv2.COLOR_BGR2GRAY)\n",
    "    resized = cv2.resize(gray, None, fx=1.5,fy=1.5, interpolation=cv2.INTER_LINEAR)\n",
    "    processed_image= cv2.adaptiveThreshold(\n",
    "        resized,\n",
    "        255,\n",
    "        cv2.ADAPTIVE_THRESH_GAUSSIAN_C,\n",
    "        cv2.THRESH_BINARY,\n",
    "        61,\n",
    "        11\n",
    "    )\n",
    "    \n",
    "    return processed_image"
   ]
  },
  {
   "cell_type": "code",
   "execution_count": 131,
   "id": "dc3d8f21-a1cf-4bfa-b9d4-6037c98f7cc6",
   "metadata": {},
   "outputs": [],
   "source": [
    "img = preprocess_image(pages[0])\n",
    "from PIL import Image\n",
    "Image.fromarray(img).show()"
   ]
  },
  {
   "cell_type": "code",
   "execution_count": 132,
   "id": "07d22c04-8075-4192-b3cb-a84d4d182b69",
   "metadata": {},
   "outputs": [
    {
     "name": "stdout",
     "output_type": "stream",
     "text": [
      "Patient Medical Record\n",
      "\n",
      "Patient Information Birth Date\n",
      "\n",
      "Jerry Lucas May 2 1998\n",
      "\n",
      "(279) 920-8204 Weight:\n",
      "\n",
      "4218 Wheeler Ridge Dr 57\n",
      "\n",
      "Buffalo, New York, 14201 Height:\n",
      "\n",
      "United States gnt\n",
      "170\n",
      "\n",
      "In Case of Emergency\n",
      "\n",
      "eee\n",
      "\n",
      "Joe Lucas . 4218 Wheeler Ridge Dr\n",
      "Buffalo, New York, 14201\n",
      "Home phone United States\n",
      "Work phone\n",
      "\n",
      "General Medical History\n",
      "\n",
      "Chicken Pox (Varicelia): Measles: ..\n",
      "\n",
      "IMMUNE NOT IMMUNE\n",
      "\n",
      "Have you had the Hepatitis B vaccination?\n",
      "\n",
      "‘Yes\n",
      "\n",
      "| List any Medical Problems (asthma, seizures, headaches):\n",
      "N/A\n",
      "\n",
      "7?\n",
      "v\n",
      "\n",
      "17/12/2020\n",
      "\n",
      "\n"
     ]
    }
   ],
   "source": [
    "\n",
    "text= pytesseract.image_to_string(img, lang='eng')\n",
    "print(text)"
   ]
  },
  {
   "cell_type": "code",
   "execution_count": 106,
   "id": "53221e6e-3c7b-47fb-9d8a-34a7ffa69f48",
   "metadata": {},
   "outputs": [],
   "source": [
    "import re"
   ]
  },
  {
   "cell_type": "code",
   "execution_count": 107,
   "id": "c38bef3d-0c52-4401-ad65-f7fef54c73ae",
   "metadata": {},
   "outputs": [
    {
     "name": "stderr",
     "output_type": "stream",
     "text": [
      "<>:1: SyntaxWarning: invalid escape sequence '\\('\n",
      "<>:1: SyntaxWarning: invalid escape sequence '\\('\n",
      "C:\\Users\\DELL\\AppData\\Local\\Temp\\ipykernel_1724\\727179948.py:1: SyntaxWarning: invalid escape sequence '\\('\n",
      "  pattern = 'Patient.Information(.*?)\\(\\d{3}\\)'\n"
     ]
    },
    {
     "data": {
      "text/plain": [
       "[' Birth Date\\nKathy Crawford May 6 1972\\n']"
      ]
     },
     "execution_count": 107,
     "metadata": {},
     "output_type": "execute_result"
    }
   ],
   "source": [
    "pattern = 'Patient.Information(.*?)\\(\\d{3}\\)'\n",
    "\n",
    "matches = re.findall(pattern, text,flags=re.DOTALL)\n",
    "matches\n"
   ]
  },
  {
   "cell_type": "code",
   "execution_count": 108,
   "id": "1b61b066-b821-48d2-a334-d045d1feb013",
   "metadata": {},
   "outputs": [
    {
     "data": {
      "text/plain": [
       "'Birth Date\\nKathy Crawford May 6 1972'"
      ]
     },
     "execution_count": 108,
     "metadata": {},
     "output_type": "execute_result"
    }
   ],
   "source": [
    "matches[0].strip()"
   ]
  },
  {
   "cell_type": "code",
   "execution_count": 109,
   "id": "1fb9ad8c-7835-4479-a05d-7ddc254fba59",
   "metadata": {},
   "outputs": [
    {
     "data": {
      "text/plain": [
       "'Kathy Crawford May 6 1972'"
      ]
     },
     "execution_count": 109,
     "metadata": {},
     "output_type": "execute_result"
    }
   ],
   "source": [
    "match = matches[0].replace(\"Birth Date\",\"\").strip()\n",
    "match"
   ]
  },
  {
   "cell_type": "code",
   "execution_count": 110,
   "id": "e6bdc7ab-859b-408f-9f17-8ab57ed1a7a8",
   "metadata": {},
   "outputs": [
    {
     "name": "stderr",
     "output_type": "stream",
     "text": [
      "<>:1: SyntaxWarning: invalid escape sequence '\\d'\n",
      "<>:1: SyntaxWarning: invalid escape sequence '\\d'\n",
      "C:\\Users\\DELL\\AppData\\Local\\Temp\\ipykernel_1724\\3616450927.py:1: SyntaxWarning: invalid escape sequence '\\d'\n",
      "  pattern = '((Jan|Feb|March|April|May|June|July|Aug|Sep|Oct|Nov|Dec)[ \\d]+)'\n"
     ]
    },
    {
     "data": {
      "text/plain": [
       "'May 6 1972'"
      ]
     },
     "execution_count": 110,
     "metadata": {},
     "output_type": "execute_result"
    }
   ],
   "source": [
    "pattern = '((Jan|Feb|March|April|May|June|July|Aug|Sep|Oct|Nov|Dec)[ \\d]+)'\n",
    "date_matches = re.findall(pattern,match)\n",
    "date= date_matches[0][0]\n",
    "\n",
    "date"
   ]
  },
  {
   "cell_type": "code",
   "execution_count": 111,
   "id": "1a186182-bda5-4eee-990c-fa281085a668",
   "metadata": {},
   "outputs": [
    {
     "data": {
      "text/plain": [
       "'Kathy Crawford'"
      ]
     },
     "execution_count": 111,
     "metadata": {},
     "output_type": "execute_result"
    }
   ],
   "source": [
    "match.replace(date, '').strip()"
   ]
  },
  {
   "cell_type": "code",
   "execution_count": 112,
   "id": "bdbe4521-300b-4feb-aaad-e93524e8928c",
   "metadata": {},
   "outputs": [
    {
     "name": "stderr",
     "output_type": "stream",
     "text": [
      "<>:3: SyntaxWarning: invalid escape sequence '\\d'\n",
      "<>:3: SyntaxWarning: invalid escape sequence '\\d'\n",
      "C:\\Users\\DELL\\AppData\\Local\\Temp\\ipykernel_1724\\3078535572.py:3: SyntaxWarning: invalid escape sequence '\\d'\n",
      "  date_pattern = '((Jan|Feb|March|April|May|June|July|Aug|Sep|Oct|Nov|Dec)[ \\d]+)'\n"
     ]
    }
   ],
   "source": [
    "def remove_noise_from_name(name):\n",
    "    name=name.replace('Birth Date','').strip()\n",
    "    date_pattern = '((Jan|Feb|March|April|May|June|July|Aug|Sep|Oct|Nov|Dec)[ \\d]+)'\n",
    "    date_matches = re.findall(date_pattern,match)\n",
    "\n",
    "    if date_matches:\n",
    "        date = date_matches[0][0]\n",
    "        name=name.replace(date,'').strip()\n",
    "    return name\n",
    "\n",
    "    \n",
    "   "
   ]
  },
  {
   "cell_type": "code",
   "execution_count": 113,
   "id": "619fad25-26b1-487d-bd7e-3cc86ecb7cea",
   "metadata": {},
   "outputs": [
    {
     "data": {
      "text/plain": [
       "'Kathy Crawford'"
      ]
     },
     "execution_count": 113,
     "metadata": {},
     "output_type": "execute_result"
    }
   ],
   "source": [
    "name= ' Birth Date\\nKathy Crawford May 6 1972\\n'\n",
    "name = remove_noise_from_name(name)\n",
    "name"
   ]
  },
  {
   "cell_type": "code",
   "execution_count": 133,
   "id": "439d8772-793d-47b2-8391-c54c64db0f92",
   "metadata": {},
   "outputs": [
    {
     "name": "stderr",
     "output_type": "stream",
     "text": [
      "<>:1: SyntaxWarning: invalid escape sequence '\\('\n",
      "<>:1: SyntaxWarning: invalid escape sequence '\\('\n",
      "C:\\Users\\DELL\\AppData\\Local\\Temp\\ipykernel_1724\\1428127916.py:1: SyntaxWarning: invalid escape sequence '\\('\n",
      "  pattern = 'Patient Information(.*?)(\\(\\d{3}\\) \\d{3}-\\d{4})'\n"
     ]
    },
    {
     "data": {
      "text/plain": [
       "[(' Birth Date\\n\\nJerry Lucas May 2 1998\\n\\n', '(279) 920-8204')]"
      ]
     },
     "execution_count": 133,
     "metadata": {},
     "output_type": "execute_result"
    }
   ],
   "source": [
    "pattern = 'Patient Information(.*?)(\\(\\d{3}\\) \\d{3}-\\d{4})'\n",
    "matches = re.findall(pattern, text,flags=re.DOTALL)\n",
    "matches\n",
    "\n"
   ]
  },
  {
   "cell_type": "code",
   "execution_count": 115,
   "id": "8fcc473f-8fa8-445e-b646-224bf91111d3",
   "metadata": {},
   "outputs": [
    {
     "data": {
      "text/plain": [
       "'(737) 988-0851'"
      ]
     },
     "execution_count": 115,
     "metadata": {},
     "output_type": "execute_result"
    }
   ],
   "source": [
    "matches[0][1]"
   ]
  },
  {
   "cell_type": "code",
   "execution_count": 116,
   "id": "ec05135c-5700-4c85-99cc-fb6bf2b994d9",
   "metadata": {},
   "outputs": [
    {
     "name": "stderr",
     "output_type": "stream",
     "text": [
      "<>:1: SyntaxWarning: invalid escape sequence '\\?'\n",
      "<>:1: SyntaxWarning: invalid escape sequence '\\?'\n",
      "C:\\Users\\DELL\\AppData\\Local\\Temp\\ipykernel_1724\\1036899923.py:1: SyntaxWarning: invalid escape sequence '\\?'\n",
      "  pattern = 'Have you had the Hepatitis B vaccination\\?.*(Yes|No)'\n"
     ]
    },
    {
     "data": {
      "text/plain": [
       "['No']"
      ]
     },
     "execution_count": 116,
     "metadata": {},
     "output_type": "execute_result"
    }
   ],
   "source": [
    "pattern = 'Have you had the Hepatitis B vaccination\\?.*(Yes|No)'\n",
    "matches = re.findall(pattern, text,flags=re.DOTALL)\n",
    "matches\n"
   ]
  },
  {
   "cell_type": "code",
   "execution_count": 123,
   "id": "3744cb40-640d-4dd0-9146-8c57fa99dfd4",
   "metadata": {},
   "outputs": [
    {
     "name": "stderr",
     "output_type": "stream",
     "text": [
      "<>:1: SyntaxWarning: invalid escape sequence '\\('\n",
      "<>:1: SyntaxWarning: invalid escape sequence '\\('\n",
      "C:\\Users\\DELL\\AppData\\Local\\Temp\\ipykernel_1724\\2047859999.py:1: SyntaxWarning: invalid escape sequence '\\('\n",
      "  pattern = 'List any Medical Problems \\(asthma, seizures, headaches\\}:(.*)'\n"
     ]
    },
    {
     "data": {
      "text/plain": [
       "['\\n\\nMigraine\\n\\nbe\\n\\nCO\\nnat\\naa\\noo\\n']"
      ]
     },
     "execution_count": 123,
     "metadata": {},
     "output_type": "execute_result"
    }
   ],
   "source": [
    "pattern = 'List any Medical Problems \\(asthma, seizures, headaches\\}:(.*)'\n",
    "matches = re.findall(pattern, text,flags=re.DOTALL)\n",
    "matches\n"
   ]
  },
  {
   "cell_type": "code",
   "execution_count": 124,
   "id": "8632857a-99e7-409c-aafe-87aebf49b71a",
   "metadata": {},
   "outputs": [
    {
     "data": {
      "text/plain": [
       "'Migraine\\n\\nbe\\n\\nCO\\nnat\\naa\\noo'"
      ]
     },
     "execution_count": 124,
     "metadata": {},
     "output_type": "execute_result"
    }
   ],
   "source": [
    "matches[0].strip()"
   ]
  },
  {
   "cell_type": "code",
   "execution_count": null,
   "id": "2656d5d7-9db1-4768-a1e2-4bdfca7efad0",
   "metadata": {},
   "outputs": [],
   "source": []
  },
  {
   "cell_type": "code",
   "execution_count": 91,
   "id": "bfe3ab8f-6bdd-4467-9375-4e63367d040a",
   "metadata": {},
   "outputs": [],
   "source": []
  },
  {
   "cell_type": "code",
   "execution_count": null,
   "id": "1a4088ca-75bc-46d8-9a6d-6ec42515e45f",
   "metadata": {},
   "outputs": [],
   "source": []
  }
 ],
 "metadata": {
  "kernelspec": {
   "display_name": "Python 3 (ipykernel)",
   "language": "python",
   "name": "python3"
  },
  "language_info": {
   "codemirror_mode": {
    "name": "ipython",
    "version": 3
   },
   "file_extension": ".py",
   "mimetype": "text/x-python",
   "name": "python",
   "nbconvert_exporter": "python",
   "pygments_lexer": "ipython3",
   "version": "3.12.2"
  }
 },
 "nbformat": 4,
 "nbformat_minor": 5
}
